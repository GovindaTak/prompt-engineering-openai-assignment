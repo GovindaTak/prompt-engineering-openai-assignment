{
  "nbformat": 4,
  "nbformat_minor": 0,
  "metadata": {
    "colab": {
      "provenance": [],
      "gpuType": "T4"
    },
    "kernelspec": {
      "name": "python3",
      "display_name": "Python 3"
    },
    "language_info": {
      "name": "python"
    },
    "accelerator": "GPU"
  },
  "cells": [
    {
      "cell_type": "markdown",
      "source": [
        "# Hands_ON_Project :- OpenAI_by_PromptEng."
      ],
      "metadata": {
        "id": "nYQF6os-d-tE"
      }
    },
    {
      "cell_type": "markdown",
      "source": [
        "# Step 1:- configure OpenAI"
      ],
      "metadata": {
        "id": "BoeAp0ZFeLYt"
      }
    },
    {
      "cell_type": "code",
      "source": [
        "import openai"
      ],
      "metadata": {
        "id": "Nq6eJU-meIqy"
      },
      "execution_count": 4,
      "outputs": []
    },
    {
      "cell_type": "code",
      "source": [
        "from google.colab import userdata\n",
        "OPENAI_API_KEY=userdata.get('OPENAI_API_KEY')"
      ],
      "metadata": {
        "id": "TB8j_p6uef1g"
      },
      "execution_count": 5,
      "outputs": []
    },
    {
      "cell_type": "code",
      "source": [
        "openai.api_key=OPENAI_API_KEY"
      ],
      "metadata": {
        "id": "4sfTYBZofbCo"
      },
      "execution_count": 6,
      "outputs": []
    },
    {
      "cell_type": "code",
      "source": [
        "client=openai.OpenAI(api_key=OPENAI_API_KEY)"
      ],
      "metadata": {
        "id": "90bt0ckefwOI"
      },
      "execution_count": 7,
      "outputs": []
    },
    {
      "cell_type": "markdown",
      "source": [
        "# Step 2 :- Prompt Engineering with ChatGPT API"
      ],
      "metadata": {
        "id": "U_l8kiPbfjSL"
      }
    },
    {
      "cell_type": "markdown",
      "source": [
        "__1) normal way__"
      ],
      "metadata": {
        "id": "C2W2cqeXgZOE"
      }
    },
    {
      "cell_type": "code",
      "source": [
        "model='gpt-4o'"
      ],
      "metadata": {
        "id": "kTlheyVjgX9B"
      },
      "execution_count": null,
      "outputs": []
    },
    {
      "cell_type": "code",
      "source": [
        "messages=[{'role':'user','content':'tell me a joke'}]\n",
        "response=client.chat.completions.create(model=model,messages=messages)"
      ],
      "metadata": {
        "id": "zZrxpnRKrFhI"
      },
      "execution_count": null,
      "outputs": []
    },
    {
      "cell_type": "markdown",
      "source": [
        "{\n",
        "  \"id\": \"chatcmpl-abc123xyz456\",\n",
        "  \"object\": \"chat.completion\",\n",
        "  \"created\": 1683949200,\n",
        "  \"model\": \"gpt-4\",\n",
        "  \"choices\": [\n",
        "    {\n",
        "      \"index\": 0,\n",
        "      \"message\": {\n",
        "        \"role\": \"assistant\",\n",
        "        \"content\": \"Why don't skeletons fight each other? Because they don't have the guts. 💀\"\n",
        "      },\n",
        "      \"finish_reason\": \"stop\"\n",
        "    }\n",
        "  ],\n",
        "  \"usage\": {\n",
        "    \"prompt_tokens\": 9,\n",
        "    \"completion_tokens\": 17,\n",
        "    \"total_tokens\": 26\n",
        "  }\n",
        "}\n"
      ],
      "metadata": {
        "id": "sAcnzwN3rHWC"
      }
    },
    {
      "cell_type": "markdown",
      "source": [
        "#Task 1 :- Classify Customer Reviews\n",
        "__Goal:__ Classify reviews into one of 3 category :Delivery Issue , Product Quality, General Feedback"
      ],
      "metadata": {
        "id": "4Xhb5YgjJFNo"
      }
    },
    {
      "cell_type": "code",
      "source": [
        "reviews = [\n",
        "    \"I ordered a book two weeks ago, and it still hasn't arrived. The tracking information is not updating either.\",\n",
        "    \"The book I received was damaged. The cover had scratches, and some pages were torn.\",\n",
        "    \"Your collection is fantastic! I found some rare books I've been searching for a long time. Keep it up!\"\n",
        "]"
      ],
      "metadata": {
        "id": "CgGc96yZI-Pa"
      },
      "execution_count": null,
      "outputs": []
    },
    {
      "cell_type": "code",
      "source": [
        "def classify_review(review):\n",
        "  prompt=f\"\"\"Classify this review into: Delivery Issues, Product Quality, or General Feedback.\n",
        "  Review: \"{review}\"\n",
        "  Category:\n",
        "  \"\"\"\n",
        "  response=openai.ChatCompletion.create(model=\"gpt-4\",messages=[{\"role\":\"user\",\"content\":prompt}],temperature=0)\n",
        "  return response['choices'][0]['message']['content'].strip()\n"
      ],
      "metadata": {
        "id": "rsZPbdudJjSZ"
      },
      "execution_count": 2,
      "outputs": []
    },
    {
      "cell_type": "code",
      "source": [
        "for r in reviews:\n",
        "  print(f\"Review : {r}\")\n",
        "  print(\"Classification:\",classify_review(r))\n",
        "  print()"
      ],
      "metadata": {
        "id": "sPXJSJU1uBoi"
      },
      "execution_count": null,
      "outputs": []
    },
    {
      "cell_type": "markdown",
      "source": [
        "Review: I ordered a book two weeks ago, and it still hasn't arrived. The tracking information is not updating either.\n",
        "Classification: Delivery Issues\n",
        "\n",
        "Review: The book I received was damaged. The cover had scratches, and some pages were torn.\n",
        "Classification: Product Quality\n",
        "\n",
        "Review: Your collection is fantastic! I found some rare books I've been searching for a long time. Keep it up!\n",
        "Classification: General Feedback\n"
      ],
      "metadata": {
        "id": "_fxZxg83zFcU"
      }
    },
    {
      "cell_type": "markdown",
      "source": [
        "#Task 2:- Generate Personalized Email Responses"
      ],
      "metadata": {
        "id": "XuEsD3BuLjD1"
      }
    },
    {
      "cell_type": "code",
      "source": [
        "complaint= \"I purchased a laptop from your store, and it stopped working within a week. I tried reaching out to your support team, but nobody responded. Please help!\"\n",
        "\n",
        "def generate_response(complaint,tone):\n",
        "  prompt=f\"\"\"\n",
        "  write a {tone} email response to the following complaint:\n",
        "\n",
        "  \"{complaint}\"\n",
        "  \"\"\"\n",
        "  response=openai.ChatCompletion.create(\n",
        "      model=\"gpt-4\",\n",
        "      messages=[{\"role\":\"user\",\"content\":prompt}],\n",
        "      temperature=0.7\n",
        "  )\n",
        "  return response['choices'][0]['message']['content'].strip()"
      ],
      "metadata": {
        "id": "v4H45EhdKcJg"
      },
      "execution_count": 9,
      "outputs": []
    },
    {
      "cell_type": "code",
      "source": [
        "casual=generate_response(complaint,\"casual and empathetic\")\n",
        "formal=generate_response(complaint,\"formal and concise\")\n",
        "\n",
        "print(\"casual Response:\\n\",casual)\n",
        "print(\"\\nFormal Response:\\n\",formal)"
      ],
      "metadata": {
        "id": "TX9vrVkIM-d1"
      },
      "execution_count": null,
      "outputs": []
    },
    {
      "cell_type": "markdown",
      "source": [
        "casual Response:\n",
        "Hey there,\n",
        "\n",
        "Really sorry to hear about the trouble with your new laptop — that’s definitely not the kind of experience we want you to have. It’s also frustrating that you didn’t get a reply from our support team, and we totally understand how upsetting that must be.\n",
        "\n",
        "Let’s get this sorted ASAP. Could you please share your order number and any additional details? We’ll make sure someone from our team gets back to you right away to resolve the issue.\n",
        "\n",
        "Thanks for your patience, and again, super sorry for the inconvenience!\n",
        "\n",
        "Best,  \n",
        "[Your Name]  \n",
        "Customer Care Team\n",
        "\n",
        "---\n",
        "\n",
        "Formal Response:\n",
        "Dear Customer,\n",
        "\n",
        "Thank you for reaching out. We sincerely apologize for the inconvenience caused by the malfunctioning laptop and the lack of response from our support team.\n",
        "\n",
        "Please provide your order number and any relevant details so we can investigate the issue promptly. We are committed to resolving this matter as quickly as possible.\n",
        "\n",
        "Thank you for your patience.\n",
        "\n",
        "Sincerely,  \n",
        "[Your Name]  \n",
        "Customer Support\n"
      ],
      "metadata": {
        "id": "JMPYb-Pi1vTc"
      }
    },
    {
      "cell_type": "markdown",
      "source": [
        "#Task 3: Structured JSON Output"
      ],
      "metadata": {
        "id": "Fi_oz8Lu1_vV"
      }
    },
    {
      "cell_type": "code",
      "source": [
        "review=\"I recently bought a gaming mouse from your website. I use Windows 11, and the mouse disconnects randomly during use. My order number is ORD123456. Please assist.\"\n"
      ],
      "metadata": {
        "id": "648vCm9j1wcK"
      },
      "execution_count": 10,
      "outputs": []
    },
    {
      "cell_type": "code",
      "source": [
        "def extract_json_from_review(review):\n",
        "  prompt=f\"\"\"\n",
        "  Extract the following information from the review and return it in json format:\n",
        "  Review: \"{review}\"\n",
        "\n",
        "  Required JSON Format:\n",
        "  {{\n",
        "    \"product\":\"\",\n",
        "    \"operating_system\":\"\",\n",
        "    \"issue_description\":\"\",\n",
        "    \"order_number\":\"\"\n",
        "  }}\n",
        "  \"\"\"\n",
        "  response=openai.ChatCompletion.create(\n",
        "      model=\"gpt-4\",\n",
        "      messages=[{\"role\":\"user\",\"content\":prompt}],\n",
        "      temperature=0\n",
        "  )\n",
        "  return response['choices'][0]['message']['content']\n"
      ],
      "metadata": {
        "id": "lA4439Z_2Uoz"
      },
      "execution_count": 12,
      "outputs": []
    },
    {
      "cell_type": "code",
      "source": [
        "print(extract_json_from_review(review))"
      ],
      "metadata": {
        "id": "5pQQBXJ83JMb"
      },
      "execution_count": null,
      "outputs": []
    },
    {
      "cell_type": "markdown",
      "source": [
        "{\n",
        "    \"product\": \"gaming mouse\",\n",
        "    \"operating_system\": \"Windows 11\",\n",
        "    \"issue_description\": \"The mouse disconnects randomly during use.\",\n",
        "    \"order_number\": \"ORD123456\"\n",
        "}\n"
      ],
      "metadata": {
        "id": "K4s2c9yA31j8"
      }
    },
    {
      "cell_type": "markdown",
      "source": [
        "#Task 4: Create Product Names (Low Vs High Temprature)"
      ],
      "metadata": {
        "id": "5x4C-6qW4PbU"
      }
    },
    {
      "cell_type": "code",
      "source": [
        "prompt = \"Generate 5 creative product names for a smart home assistant.\"\n",
        "\n",
        "def generate_product_names(temp):\n",
        "    response = openai.ChatCompletion.create(\n",
        "        model=\"gpt-4\",\n",
        "        messages=[{\"role\": \"user\", \"content\": prompt}],\n",
        "        temperature=temp\n",
        "    )\n",
        "    return response['choices'][0]['message']['content'].strip()\n",
        "\n",
        "low_temp_names = generate_product_names(0.2)\n",
        "high_temp_names = generate_product_names(0.9)\n",
        "\n",
        "print(\"Low Temperature (0.2):\\n\", low_temp_names)\n",
        "print(\"\\nHigh Temperature (0.9):\\n\", high_temp_names)\n"
      ],
      "metadata": {
        "id": "J57XP1Tj4G7J"
      },
      "execution_count": null,
      "outputs": []
    },
    {
      "cell_type": "markdown",
      "source": [
        "Low Temperature (0.2):\n",
        "1. HomeMate\n",
        "2. SmartEase\n",
        "3. HouseHelper\n",
        "4. AutoNest\n",
        "5. IntelliHome\n",
        "\n",
        "High Temperature (0.9):\n",
        "1. WhisprHive\n",
        "2. ZenoNest\n",
        "3. LumiAura\n",
        "4. EchoVibe\n",
        "5. NuroPod\n"
      ],
      "metadata": {
        "id": "UuWlac374lFh"
      }
    },
    {
      "cell_type": "markdown",
      "source": [
        "#Iterative Prompt Improvement"
      ],
      "metadata": {
        "id": "iNyLXnpr43b5"
      }
    },
    {
      "cell_type": "code",
      "source": [
        "original_prompt = \"Write an ad for a smart home device.\"\n",
        "\n",
        "improved_prompt = \"\"\"\n",
        "Write a short advertisement for a smart home device targeting busy professionals.\n",
        "Highlight features like voice control, energy efficiency, and seamless mobile integration.\n",
        "End with a catchy call-to-action.\n",
        "\"\"\"\n",
        "\n"
      ],
      "metadata": {
        "id": "UtFFURfF4wgb"
      },
      "execution_count": 13,
      "outputs": []
    },
    {
      "cell_type": "code",
      "source": [
        "def compare_prompts(original, improved):\n",
        "    responses = {}\n",
        "    for label, prompt in zip([\"Original\", \"Improved\"], [original, improved]):\n",
        "        response = openai.ChatCompletion.create(\n",
        "            model=\"gpt-4\",\n",
        "            messages=[{\"role\": \"user\", \"content\": prompt}],\n",
        "            temperature=0.7\n",
        "        )\n",
        "        responses[label] = response['choices'][0]['message']['content'].strip()\n",
        "    return responses\n",
        "\n"
      ],
      "metadata": {
        "id": "70j029Vg5N0l"
      },
      "execution_count": 14,
      "outputs": []
    },
    {
      "cell_type": "code",
      "source": [
        "results = compare_prompts(original_prompt, improved_prompt)\n",
        "print(\"Original Prompt Output:\\n\", results[\"Original\"])\n",
        "print(\"\\nImproved Prompt Output:\\n\", results[\"Improved\"])\n"
      ],
      "metadata": {
        "id": "NcgD-GM95RRS"
      },
      "execution_count": null,
      "outputs": []
    },
    {
      "cell_type": "markdown",
      "source": [
        "Original Prompt Output:\n",
        "Introducing the future of smart living! Our new smart home device makes life easier, safer, and more connected. Control your home with just your voice and enjoy the convenience of automation. Get started with your smart lifestyle today!\n",
        "\n",
        "Improved Prompt Output:\n",
        "Tired of juggling a hectic schedule and home responsibilities? Meet SmartEase — your personal home assistant designed for busy professionals. Control lights, temperature, and appliances with a simple voice command. Save energy with intelligent usage tracking. Stay connected anytime, anywhere with seamless mobile integration.\n",
        "\n",
        "Make life simpler — bring SmartEase home today!\n"
      ],
      "metadata": {
        "id": "5xxLqwPJ5SwV"
      }
    },
    {
      "cell_type": "code",
      "source": [],
      "metadata": {
        "id": "A4qrnTpf55Yg"
      },
      "execution_count": null,
      "outputs": []
    }
  ]
}